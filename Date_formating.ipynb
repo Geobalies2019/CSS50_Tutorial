{
  "nbformat": 4,
  "nbformat_minor": 0,
  "metadata": {
    "colab": {
      "provenance": [],
      "authorship_tag": "ABX9TyNeJdtsxNI1p739pzq05cQP",
      "include_colab_link": true
    },
    "kernelspec": {
      "name": "python3",
      "display_name": "Python 3"
    },
    "language_info": {
      "name": "python"
    }
  },
  "cells": [
    {
      "cell_type": "markdown",
      "metadata": {
        "id": "view-in-github",
        "colab_type": "text"
      },
      "source": [
        "<a href=\"https://colab.research.google.com/github/Geobalies2019/CSS50_Tutorial/blob/main/Date_formating.ipynb\" target=\"_parent\"><img src=\"https://colab.research.google.com/assets/colab-badge.svg\" alt=\"Open In Colab\"/></a>"
      ]
    },
    {
      "cell_type": "markdown",
      "source": [
        "**Split date format into Month, Day, Year**"
      ],
      "metadata": {
        "id": "49m_g0qpdXE8"
      }
    },
    {
      "cell_type": "code",
      "execution_count": null,
      "metadata": {
        "id": "fpezdqoWdWKs"
      },
      "outputs": [],
      "source": [
        "import pandas as pd\n",
        "\n",
        "# Read the Excel file\n",
        "file_path = \"/content/Book2.xlsx\"  # Replace with the actual path to your Excel file\n",
        "df = pd.read_excel(file_path)\n",
        "\n",
        "# Extract the dates column\n",
        "dates = df['Date']  # Replace 'YourColumnName' with the actual column name containing the dates\n",
        "\n",
        "# Extract month, day, and year\n",
        "converted_dates = [(date.month, date.day, date.year) for date in dates]\n",
        "\n",
        "# Create a new DataFrame with the converted dates\n",
        "converted_df = pd.DataFrame(converted_dates, columns=['Month', 'Day', 'Year'])\n",
        "\n",
        "# Print the results\n",
        "print(converted_df)"
      ]
    }
  ]
}