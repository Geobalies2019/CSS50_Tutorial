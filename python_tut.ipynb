{
  "nbformat": 4,
  "nbformat_minor": 0,
  "metadata": {
    "colab": {
      "provenance": [],
      "authorship_tag": "ABX9TyPcnHanj3Khopu3woiAJb8h",
      "include_colab_link": true
    },
    "kernelspec": {
      "name": "python3",
      "display_name": "Python 3"
    },
    "language_info": {
      "name": "python"
    }
  },
  "cells": [
    {
      "cell_type": "markdown",
      "metadata": {
        "id": "view-in-github",
        "colab_type": "text"
      },
      "source": [
        "<a href=\"https://colab.research.google.com/github/Geobalies2019/CSS50_Tutorial/blob/main/python_tut.ipynb\" target=\"_parent\"><img src=\"https://colab.research.google.com/assets/colab-badge.svg\" alt=\"Open In Colab\"/></a>"
      ]
    },
    {
      "cell_type": "code",
      "source": [
        "n = int(input(\"Number: \"))\n",
        "\n",
        "if n > 0:\n",
        "    print(\"n is positive\")\n",
        "elif n < 0:\n",
        "    print(\"n is negative\")\n",
        "else:\n",
        "    print(\"n is zero\")\n"
      ],
      "metadata": {
        "colab": {
          "base_uri": "https://localhost:8080/"
        },
        "id": "HTt1pLfNS5_F",
        "outputId": "e8e6b237-74b6-4d67-f181-c0176306eb13"
      },
      "execution_count": 37,
      "outputs": [
        {
          "output_type": "stream",
          "name": "stdout",
          "text": [
            "Number: 1\n",
            "n is positive\n"
          ]
        }
      ]
    },
    {
      "cell_type": "code",
      "source": [
        "#sequences\n",
        "name = \"Harry\"\n",
        "\n",
        "print(name[4])\n",
        "\n",
        "\n"
      ],
      "metadata": {
        "colab": {
          "base_uri": "https://localhost:8080/"
        },
        "id": "5rkck6JiR0YJ",
        "outputId": "75b985c7-c7ea-4e23-91eb-72a4cc832406"
      },
      "execution_count": 10,
      "outputs": [
        {
          "output_type": "stream",
          "name": "stdout",
          "text": [
            "y\n"
          ]
        }
      ]
    },
    {
      "cell_type": "code",
      "source": [
        "names = [\"harry\", \"Ron\", \"Drake\"]\n",
        "\n",
        "print(names[2])"
      ],
      "metadata": {
        "colab": {
          "base_uri": "https://localhost:8080/"
        },
        "id": "BzUQKq-VR0bf",
        "outputId": "30c42c45-e5e1-47d5-f293-23f2247e12fb"
      },
      "execution_count": 14,
      "outputs": [
        {
          "output_type": "stream",
          "name": "stdout",
          "text": [
            "Drake\n"
          ]
        }
      ]
    },
    {
      "cell_type": "code",
      "source": [
        "coordinateX = 10.0\n",
        "coordinateY = 20.0\n"
      ],
      "metadata": {
        "id": "DNR_b0bLR0do"
      },
      "execution_count": 15,
      "outputs": []
    },
    {
      "cell_type": "code",
      "source": [
        "#Tuple\n",
        "cordinate = (10.0, 20.0)\n",
        "\n",
        "#List - sequence of mutable values\n",
        "#tuple - sequence of immutable values\n",
        "#set - collection of unique values\n",
        "#dict - collection of key-value pairs"
      ],
      "metadata": {
        "id": "XbQVU1XrR0gh"
      },
      "execution_count": 16,
      "outputs": []
    },
    {
      "cell_type": "code",
      "source": [
        "names = [\"harry\", \"Ron\", \"Drake\", \"Jake\"] # Define a list of names\n",
        "print(names)"
      ],
      "metadata": {
        "colab": {
          "base_uri": "https://localhost:8080/"
        },
        "id": "Aib6l2pAYzcu",
        "outputId": "8c57b7a4-dbe8-4a68-9c36-d64a85e9c002"
      },
      "execution_count": 24,
      "outputs": [
        {
          "output_type": "stream",
          "name": "stdout",
          "text": [
            "['harry', 'Ron', 'Drake', 'Jake']\n"
          ]
        }
      ]
    },
    {
      "cell_type": "code",
      "source": [
        "print(names[2])"
      ],
      "metadata": {
        "colab": {
          "base_uri": "https://localhost:8080/"
        },
        "id": "WF11S6WCYzig",
        "outputId": "54888c9b-93e7-4717-cbac-7d483d40630e"
      },
      "execution_count": 19,
      "outputs": [
        {
          "output_type": "stream",
          "name": "stdout",
          "text": [
            "Drake\n"
          ]
        }
      ]
    },
    {
      "cell_type": "code",
      "source": [
        "names.append(\"Deco\")\n",
        "print(names)"
      ],
      "metadata": {
        "colab": {
          "base_uri": "https://localhost:8080/"
        },
        "id": "DpM2Bip9YzlG",
        "outputId": "61ba0ee1-7683-4988-b6fa-4282aaca9a6b"
      },
      "execution_count": 25,
      "outputs": [
        {
          "output_type": "stream",
          "name": "stdout",
          "text": [
            "['harry', 'Ron', 'Drake', 'Jake', 'Deco']\n"
          ]
        }
      ]
    },
    {
      "cell_type": "code",
      "source": [
        "names.sort()  #we care about order\n",
        "print(names)"
      ],
      "metadata": {
        "colab": {
          "base_uri": "https://localhost:8080/"
        },
        "id": "yz4bg2OZYzoo",
        "outputId": "bfb7a695-0bdf-4ec6-d140-c5e50e0bd0ce"
      },
      "execution_count": 28,
      "outputs": [
        {
          "output_type": "stream",
          "name": "stdout",
          "text": [
            "['Deco', 'Drake', 'Jake', 'Ron', 'harry']\n"
          ]
        }
      ]
    },
    {
      "cell_type": "code",
      "source": [
        "# create an empty set\n",
        "s = set()\n",
        "\n",
        "#add elemet to set\n",
        "s.add(1)\n",
        "s.add(2)\n",
        "s.add(3)\n",
        "s.add(4)\n",
        "s.add(5)\n",
        "s.add(2)\n",
        "print(s) #Note no element appeared twice"
      ],
      "metadata": {
        "colab": {
          "base_uri": "https://localhost:8080/"
        },
        "id": "zycJmSrKZlzy",
        "outputId": "1f58bd42-8d45-42de-ec75-a6670a6a1b2b"
      },
      "execution_count": 34,
      "outputs": [
        {
          "output_type": "stream",
          "name": "stdout",
          "text": [
            "{1, 2, 3, 4, 5}\n"
          ]
        }
      ]
    },
    {
      "cell_type": "code",
      "source": [
        "#remove element\n",
        "s.remove(5)\n",
        "print(s)"
      ],
      "metadata": {
        "colab": {
          "base_uri": "https://localhost:8080/"
        },
        "id": "IP2Vn4SqZl8y",
        "outputId": "77b48f6d-ead7-4d2d-b739-965b2df91107"
      },
      "execution_count": 35,
      "outputs": [
        {
          "output_type": "stream",
          "name": "stdout",
          "text": [
            "{1, 2, 3, 4}\n"
          ]
        }
      ]
    },
    {
      "cell_type": "code",
      "source": [
        "print(f\"The set has {len(s)} elements\")"
      ],
      "metadata": {
        "colab": {
          "base_uri": "https://localhost:8080/"
        },
        "id": "UddzPi6nZl_y",
        "outputId": "5aeee95b-db72-4ab7-ad0b-7ca10f7f8e2b"
      },
      "execution_count": 36,
      "outputs": [
        {
          "output_type": "stream",
          "name": "stdout",
          "text": [
            "The set has 4 elements\n"
          ]
        }
      ]
    },
    {
      "cell_type": "code",
      "source": [],
      "metadata": {
        "id": "zupAvqsKZmCc"
      },
      "execution_count": null,
      "outputs": []
    },
    {
      "cell_type": "code",
      "source": [],
      "metadata": {
        "id": "kZw6j0RPYzvS"
      },
      "execution_count": null,
      "outputs": []
    }
  ]
}